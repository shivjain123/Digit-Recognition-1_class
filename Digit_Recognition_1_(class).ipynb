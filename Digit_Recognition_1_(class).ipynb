{
  "nbformat": 4,
  "nbformat_minor": 0,
  "metadata": {
    "colab": {
      "name": "Digit Recognition 1 (class).ipynb",
      "provenance": [],
      "authorship_tag": "ABX9TyOy1hTubpuLoTLirlZtbaDb",
      "include_colab_link": true
    },
    "kernelspec": {
      "name": "python3",
      "display_name": "Python 3"
    },
    "language_info": {
      "name": "python"
    }
  },
  "cells": [
    {
      "cell_type": "markdown",
      "metadata": {
        "id": "view-in-github",
        "colab_type": "text"
      },
      "source": [
        "<a href=\"https://colab.research.google.com/github/shivjain123/Digit-Recognition-1_class/blob/master/Digit_Recognition_1_(class).ipynb\" target=\"_parent\"><img src=\"https://colab.research.google.com/assets/colab-badge.svg\" alt=\"Open In Colab\"/></a>"
      ]
    },
    {
      "cell_type": "code",
      "metadata": {
        "id": "FrzXEPkylDfo"
      },
      "source": [
        "import numpy as np\n",
        "import cv2\n",
        "import pandas as pd\n",
        "from sklearn.model_selection import train_test_split as tts\n",
        "from sklearn.linear_model import LogisticRegression\n",
        "from sklearn.datasets import fetch_openml as f\n",
        "import matplotlib.pyplot as plt\n",
        "from sklearn.metrics import accuracy_score as acs\n",
        "import seaborn as sns\n",
        "\n",
        "X,Y = f('mnist_784', version = 1, return_X_y = True)\n",
        "classes = ['0', '1', '2', '3', '4', '5', '6', '7', '8', '9']\n",
        "n_classes = len(classes)"
      ],
      "execution_count": 5,
      "outputs": []
    },
    {
      "cell_type": "code",
      "metadata": {
        "id": "EmFOEU57mxRi"
      },
      "source": [
        "s_per_class = 4\n",
        "idx_class = 0\n",
        "figure = plt.figure(figsize=(n_classes*2,(1+s_per_class*2)))\n",
        "for cls in classes:\n",
        "  idxs = np.flatnonzero(Y == cls)\n",
        "  idxs = np.random.choice(idxs, s_per_class, replace = False)\n",
        "  i = 0\n",
        "  for idx in idxs:\n",
        "    idx_plot = i * n_classes + idx_class + 1\n",
        "    p = plt.subplot(s_per_class, n_classes, idx_plot)\n",
        "    p = sns.heatmap(np.reshape(X[idx], (28, 28)), cmap = plt.cm.gray, xticklabels = False, yticklabels =  False, cbar = False)\n",
        "    p = plt.axis('off')\n",
        "    i += 1\n",
        "  idx_class += 1\n"
      ],
      "execution_count": null,
      "outputs": []
    },
    {
      "cell_type": "code",
      "metadata": {
        "id": "S47HmqjjqGmK"
      },
      "source": [
        "print(len(X))\n",
        "print(len(X[0]))\n",
        "print(len(Y))"
      ],
      "execution_count": null,
      "outputs": []
    },
    {
      "cell_type": "code",
      "metadata": {
        "id": "OsE7fio5qf2H"
      },
      "source": [
        "x_train, x_test, y_train, y_test = tts(X, Y, random_state = 6, train_size = 7500, test_size = 2500)\n",
        "\n",
        "x_train_scaled = x_train/255.0\n",
        "x_test_scaled = x_test/255.0"
      ],
      "execution_count": 20,
      "outputs": []
    },
    {
      "cell_type": "code",
      "metadata": {
        "id": "wYpx0VgNrQxF"
      },
      "source": [
        "model = LogisticRegression(solver = 'saga', multi_class = 'multinomial').fit(x_train_scaled, y_train)\n",
        "\n",
        "y_pred = model.predict(x_test_scaled)\n",
        "\n",
        "accuracy = acs(y_test, y_pred)\n",
        "\n",
        "print(f\"The Accuracy Score of my model is {accuracy} .\")"
      ],
      "execution_count": null,
      "outputs": []
    },
    {
      "cell_type": "code",
      "metadata": {
        "id": "G2h_Xut4r37y"
      },
      "source": [
        "from sklearn.metrics import confusion_matrix as cfm\n",
        "\n",
        "cm = pd.crosstab(y_test, y_pred, rownames = [\"Actual\"], colnames = [\"Predicted\"])\n",
        "\n",
        "p = plt.figure(figsize = (10, 10))\n",
        "p = sns.heatmap(cm, annot = True, fmt = \"d\", cbar = False)"
      ],
      "execution_count": null,
      "outputs": []
    }
  ]
}